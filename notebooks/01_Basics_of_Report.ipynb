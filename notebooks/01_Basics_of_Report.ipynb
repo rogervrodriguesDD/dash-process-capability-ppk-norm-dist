{
 "cells": [
  {
   "cell_type": "code",
   "execution_count": null,
   "id": "6623b99a",
   "metadata": {},
   "outputs": [],
   "source": [
    "import datetime\n",
    "import numpy as np\n",
    "import pandas as pd\n",
    "import typing as t"
   ]
  },
  {
   "cell_type": "code",
   "execution_count": null,
   "id": "077f4607",
   "metadata": {},
   "outputs": [],
   "source": [
    "# Creating the timestamps for the index\n",
    "current_date = datetime.datetime.now()\n",
    "previous_90d_date = current_date - datetime.timedelta(days = 90)\n",
    "start_date = datetime.datetime(year = previous_90d_date.year, \n",
    "                              month = previous_90d_date.month,\n",
    "                              day = 1)\n",
    "\n",
    "index = pd.date_range(start = start_date, end = current_date, freq = '4H')"
   ]
  },
  {
   "cell_type": "code",
   "execution_count": null,
   "id": "6c0c061a",
   "metadata": {},
   "outputs": [],
   "source": [
    "# Generating the sample points\n",
    "samples = np.random.normal(loc=10, scale=3, size=(len(index), 2))\n",
    "\n",
    "# Creating the dataframe \n",
    "data = pd.DataFrame(data=samples, index=index, columns=['Circuit 1', 'Circuit 2'])\n",
    "\n",
    "# Randomly drop some samples \n",
    "drop_pct = 0.1\n",
    "drop_index = np.random.choice([*range(len(index))], size=int(len(index) * drop_pct), replace=False)\n",
    "data.iloc[drop_index] = np.nan\n",
    "\n",
    "# Printing the resulting dataframe\n",
    "data.head()"
   ]
  },
  {
   "cell_type": "code",
   "execution_count": null,
   "id": "d2ce571e",
   "metadata": {},
   "outputs": [],
   "source": [
    "def calculate_monthly_cap_index(df):\n",
    "    \n",
    "    # Grouping by business month start frequency\n",
    "    groups = df.groupby(pd.Grouper(freq='BMS'))\n",
    "    \n",
    "    def ppi(x):\n",
    "        return (np.mean(x) - spec_limits['LSL']) / np.std(x) / 3\n",
    "\n",
    "    def pps(x):\n",
    "        return (spec_limits['USL'] - np.mean(x) ) / np.std(x) / 3\n",
    "\n",
    "    spec_limits = {\n",
    "        'LSL': 6.0,\n",
    "        'USL': 12.0\n",
    "    }\n",
    "    \n",
    "    monthly_ppk = groups.agg(['mean', 'std', ppi, pps])\n",
    "    \n",
    "    for circ in monthly_ppk.columns.get_level_values(level=0):\n",
    "        monthly_ppk[(circ, 'PPK')] = monthly_ppk[zip(2*[circ], ['ppi', 'pps'])].min(axis=1)\n",
    "\n",
    "    #monthly_ppk.index = [item.strftime(format='%m.%Y') for item in monthly_ppk.index]\n",
    "\n",
    "    return monthly_ppk"
   ]
  },
  {
   "cell_type": "code",
   "execution_count": null,
   "id": "8d422c6b",
   "metadata": {},
   "outputs": [],
   "source": [
    "monthly_ppk = calculate_monthly_cap_index(data)\n",
    "\n",
    "monthly_ppk"
   ]
  },
  {
   "cell_type": "markdown",
   "id": "ba82442e",
   "metadata": {},
   "source": [
    "## 1. Creating a class to the production process data"
   ]
  },
  {
   "cell_type": "code",
   "execution_count": null,
   "id": "68e4a98d",
   "metadata": {},
   "outputs": [],
   "source": [
    "class ProcessData():\n",
    "    def __init__(self,\n",
    "                plant_name: str,\n",
    "                circuit_names: t.Sequence[str],\n",
    "                specifications_limits: dict,\n",
    "                data: pd.DataFrame = None):\n",
    "        self.plant_name = plant_name\n",
    "        \n",
    "        self.data = data\n",
    "        self.specifications_limits = specifications_limits\n",
    "        \n",
    "        if isinstance(circuit_names, list):\n",
    "            self.circuit_names = circuit_names \n",
    "        else:\n",
    "            self.circuit_names = [circuit_names]\n",
    "            \n",
    "        self._check_for_specifications_limits()\n",
    "\n",
    "        if data is None:\n",
    "            self.data = self._create_sample_data()\n",
    "            \n",
    "    def _check_for_specifications_limits(self):\n",
    "        set_circ_names = set(self.circuit_names)\n",
    "        set_circ_spec_lim = set(self.specifications_limits.keys())\n",
    "        \n",
    "        if set_circ_names.difference(set_circ_spec_lim) != set():\n",
    "            raise OSError(\"There are missing values for specification limits for the circuit(s): \", \", \".join(set_circ_names.difference(set_circ_spec_lim)))\n",
    "        if set_circ_spec_lim.difference(set_circ_names) != set():\n",
    "            raise OSError(\"There are extra values of specification limits for the circuit(s): \", \", \".join(set_circ_spec_lim.difference(set_circ_names)))\n",
    "\n",
    "    def _create_sample_data(self) -> pd.DataFrame:\n",
    "        \n",
    "        # Creating the timestamps for the index\n",
    "        current_date = datetime.datetime.now()\n",
    "        previous_90d_date = current_date - datetime.timedelta(days = 90)\n",
    "        start_date = datetime.datetime(year = previous_90d_date.year,\n",
    "                                      month = previous_90d_date.month,\n",
    "                                      day = 1)\n",
    "        index = pd.date_range(start = start_date, end = current_date, freq = '4H')\n",
    "        \n",
    "        # Creating the dataframe\n",
    "        data = pd.DataFrame(index=index)\n",
    "        \n",
    "        for circ in self.circuit_names:\n",
    "\n",
    "            # Generating the sample points\n",
    "            lls,uls  = self.specifications_limits[circ]['LLS'], self.specifications_limits[circ]['ULS'] \n",
    "            mu = (lls + uls) / 2 + np.random.uniform(0.0, 15.0)\n",
    "            sigma = np.random.uniform(0.0, 15.0)\n",
    "            \n",
    "            samples = np.random.normal(loc=mu, scale=sigma, size=len(index))\n",
    "\n",
    "            data_ = pd.DataFrame(data=samples, index=index, columns=[circ])\n",
    "\n",
    "            # Randomly drop some samples\n",
    "            drop_pct = 0.1\n",
    "            drop_index = np.random.choice([*range(len(index))], size=int(len(index) * drop_pct), replace=False)\n",
    "            data_.iloc[drop_index] = np.nan\n",
    "            \n",
    "            data = pd.concat([data, data_], axis=1, ignore_index=False)\n",
    "\n",
    "        return data\n"
   ]
  },
  {
   "cell_type": "code",
   "execution_count": null,
   "id": "d4334aa6",
   "metadata": {},
   "outputs": [],
   "source": [
    "data_plant_A = ProcessData(\n",
    "    plant_name='Plant A',\n",
    "    circuit_names = 'Circuit 1',\n",
    "    specifications_limits = {'Circuit 1': {'LLS': 60.0, 'ULS': 70.0}}\n",
    ")"
   ]
  },
  {
   "cell_type": "code",
   "execution_count": null,
   "id": "764d939e",
   "metadata": {},
   "outputs": [],
   "source": [
    "data_plant_A.data"
   ]
  },
  {
   "cell_type": "code",
   "execution_count": null,
   "id": "9a3f06ec",
   "metadata": {},
   "outputs": [],
   "source": [
    "data_plant_A = ProcessData(\n",
    "    plant_name='Plant A',\n",
    "    circuit_names = ['Circuit 1', 'Circuit 2', 'Circuit 3'],\n",
    "    specifications_limits = {'Circuit 1': {'LLS': 60.0, 'ULS': 70.0},\n",
    "                             'Circuit 2': {'LLS': 40.0, 'ULS': 70.0},\n",
    "                             'Circuit 3': {'LLS': 85.0, 'ULS': 90.0}}\n",
    ")"
   ]
  },
  {
   "cell_type": "code",
   "execution_count": null,
   "id": "cfe8bdc3",
   "metadata": {},
   "outputs": [],
   "source": [
    "data_plant_A.data"
   ]
  },
  {
   "cell_type": "markdown",
   "id": "c2f9b172",
   "metadata": {},
   "source": [
    "Reformulating the function to calculate the ppk"
   ]
  },
  {
   "cell_type": "code",
   "execution_count": null,
   "id": "29234524",
   "metadata": {},
   "outputs": [],
   "source": [
    "def calculate_cap_index_ppk(process_data_obj, freq='BMS'):\n",
    "    \n",
    "    # Grouping by business month start frequency\n",
    "    groups = process_data_obj.data.groupby(pd.Grouper(freq=freq))\n",
    "    \n",
    "    def ppi(x):\n",
    "        return (np.mean(x) - spec_limits['LLS']) / np.std(x) / 3\n",
    "\n",
    "    def pps(x):\n",
    "        return (spec_limits['ULS'] - np.mean(x) ) / np.std(x) / 3\n",
    "    \n",
    "    capidx_ppk = pd.DataFrame(index=groups.groups.keys())\n",
    "    \n",
    "    for circ in process_data_obj.circuit_names:\n",
    "        spec_limits = process_data_obj.specifications_limits[circ]\n",
    "        \n",
    "        capidx_ppk_ = groups[[circ]].agg(['count','mean', 'std', ppi, pps])        \n",
    "        capidx_ppk_[(circ, 'PPK')] = capidx_ppk_[zip(2*[circ], ['ppi', 'pps'])].min(axis=1)\n",
    "        \n",
    "        capidx_ppk = pd.concat([capidx_ppk, capidx_ppk_], axis=1, ignore_index=False)\n",
    "\n",
    "    return capidx_ppk"
   ]
  },
  {
   "cell_type": "code",
   "execution_count": null,
   "id": "4c60ff3a",
   "metadata": {},
   "outputs": [],
   "source": [
    "monthly_ppk = calculate_cap_index_ppk(data_plant_A)"
   ]
  },
  {
   "cell_type": "code",
   "execution_count": null,
   "id": "eb07421b",
   "metadata": {},
   "outputs": [],
   "source": [
    "monthly_ppk"
   ]
  },
  {
   "cell_type": "code",
   "execution_count": null,
   "id": "793c0cd4",
   "metadata": {},
   "outputs": [],
   "source": [
    "daily_ppk = calculate_cap_index_ppk(data_plant_A, freq='D')"
   ]
  },
  {
   "cell_type": "code",
   "execution_count": null,
   "id": "521df8aa",
   "metadata": {},
   "outputs": [],
   "source": [
    "daily_ppk"
   ]
  },
  {
   "cell_type": "markdown",
   "id": "d82d170a",
   "metadata": {},
   "source": [
    "## 2. Creating class to multiple Process Data objects"
   ]
  },
  {
   "cell_type": "code",
   "execution_count": null,
   "id": "e260316e",
   "metadata": {},
   "outputs": [],
   "source": [
    "class SetProcessData():\n",
    "    \n",
    "    def __init__(self, process_data_objs):\n",
    "        \n",
    "        if not isinstance(process_data_objs, list):\n",
    "            process_data_objs = list(process_data_objs)\n",
    "        self.process_data_objs = process_data_objs\n",
    "        \n",
    "        self.list_plant_names = [obj.plant_name for obj in process_data_objs]\n",
    "            \n",
    "    def __getitem__(self, plant_name):\n",
    "        idx_plant_name = self.list_plant_names.index(plant_name)\n",
    "        return self.process_data_objs[idx_plant_name]\n",
    "    \n",
    "\n",
    "        "
   ]
  },
  {
   "cell_type": "code",
   "execution_count": null,
   "id": "2f7cd62f",
   "metadata": {},
   "outputs": [],
   "source": [
    "data_plant_A = ProcessData(\n",
    "    plant_name='Plant A',\n",
    "    circuit_names = ['Circuit 1', 'Circuit 2', 'Circuit 3'],\n",
    "    specifications_limits = {'Circuit 1': {'LLS': 60.0, 'ULS': 70.0},\n",
    "                             'Circuit 2': {'LLS': 40.0, 'ULS': 70.0},\n",
    "                             'Circuit 3': {'LLS': 85.0, 'ULS': 90.0}}\n",
    ")\n",
    "\n",
    "data_plant_B = ProcessData(\n",
    "    plant_name='Plant B',\n",
    "    circuit_names = ['Circuit 1', 'Circuit 2'],\n",
    "    specifications_limits = {'Circuit 1': {'LLS': 60.0, 'ULS': 70.0},\n",
    "                             'Circuit 2': {'LLS': 40.0, 'ULS': 70.0}}\n",
    ")\n",
    "\n",
    "process_data_ind_park = SetProcessData(process_data_objs=[data_plant_A, data_plant_B])\n",
    "\n"
   ]
  },
  {
   "cell_type": "code",
   "execution_count": null,
   "id": "7296eb43",
   "metadata": {},
   "outputs": [],
   "source": [
    "process_data_ind_park['Plant A'].data.resample('BMS').mean()"
   ]
  },
  {
   "cell_type": "code",
   "execution_count": null,
   "id": "a495b506",
   "metadata": {},
   "outputs": [],
   "source": [
    "process_data_ind_park['Plant B'].specifications_limits"
   ]
  },
  {
   "cell_type": "code",
   "execution_count": null,
   "id": "d1796ef1",
   "metadata": {},
   "outputs": [],
   "source": []
  }
 ],
 "metadata": {
  "kernelspec": {
   "display_name": "Python 3 (ipykernel)",
   "language": "python",
   "name": "python3"
  },
  "language_info": {
   "codemirror_mode": {
    "name": "ipython",
    "version": 3
   },
   "file_extension": ".py",
   "mimetype": "text/x-python",
   "name": "python",
   "nbconvert_exporter": "python",
   "pygments_lexer": "ipython3",
   "version": "3.8.10"
  }
 },
 "nbformat": 4,
 "nbformat_minor": 5
}
